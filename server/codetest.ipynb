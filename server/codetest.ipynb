{
 "cells": [
  {
   "cell_type": "code",
   "execution_count": 57,
   "id": "9e630f37",
   "metadata": {},
   "outputs": [
    {
     "name": "stderr",
     "output_type": "stream",
     "text": [
      "c:\\Users\\Nic\\anaconda3\\envs\\python310\\lib\\site-packages\\influxdb_client\\client\\warnings.py:31: MissingPivotFunction: The query doesn't contains the pivot() function.\n",
      "\n",
      "The result will not be shaped to optimal processing by pandas.DataFrame. Use the pivot() function by:\n",
      "\n",
      "    from(bucket: \"ESP32\")\n",
      "|> range(start: -14d, stop:now())\n",
      "|> filter(fn: (r) => r[\"_measurement\"] == \"Energy_status\")\n",
      "|> filter(fn: (r) => r[\"_field\"] == \"W\")\n",
      "|> timeShift(duration: 8h)\n",
      "|> aggregateWindow(every: 1m, fn: mean, createEmpty: false)\n",
      "|> drop(columns: [\"_start\",\"_stop\",\"_measurement\",\"_field\"])\n",
      "|> yield(name: \"mean\") |> pivot(rowKey:[\"_time\"], columnKey: [\"_field\"], valueColumn: \"_value\")\n",
      "\n",
      "You can disable this warning by:\n",
      "    import warnings\n",
      "    from influxdb_client.client.warnings import MissingPivotFunction\n",
      "\n",
      "    warnings.simplefilter(\"ignore\", MissingPivotFunction)\n",
      "\n",
      "For more info see:\n",
      "    - https://docs.influxdata.com/resources/videos/pivots-in-flux/\n",
      "    - https://docs.influxdata.com/flux/latest/stdlib/universe/pivot/\n",
      "    - https://docs.influxdata.com/flux/latest/stdlib/influxdata/influxdb/schema/fieldsascols/\n",
      "\n",
      "  warnings.warn(message, MissingPivotFunction)\n"
     ]
    },
    {
     "name": "stdout",
     "output_type": "stream",
     "text": [
      "                                 _time  _value\n",
      "0            2022-11-16 00:37:00+00:00   37.61\n",
      "1            2022-11-16 00:38:00+00:00   37.74\n",
      "2            2022-11-16 00:39:00+00:00   46.95\n",
      "3            2022-11-16 00:40:00+00:00   47.91\n",
      "4            2022-11-16 00:41:00+00:00   47.01\n",
      "...                                ...     ...\n",
      "18657        2022-11-28 23:37:00+00:00   36.88\n",
      "18658        2022-11-28 23:38:00+00:00   35.51\n",
      "18659        2022-11-28 23:39:00+00:00   35.65\n",
      "18660        2022-11-28 23:40:00+00:00   36.15\n",
      "18661 2022-11-28 23:40:24.045217+00:00   35.91\n",
      "\n",
      "[18662 rows x 2 columns]\n"
     ]
    }
   ],
   "source": [
    "import pandas as pd\n",
    "import numpy as np\n",
    "from datetime import datetime\n",
    "import csv\n",
    "import influxdb_client, os, time\n",
    "from influxdb_client import InfluxDBClient, Point, WritePrecision\n",
    "from influxdb_client.client.write_api import SYNCHRONOUS\n",
    "\n",
    "# You can generate a Token from the \"Tokens Tab\" in the UI\n",
    "token = \"JxCGieLiMyN7lNeNnOiPQstwDdw3-diYqbDQvfbVz9lohjSVvGqFbvcqp2xN_s5TCgaYi4koju3TZhmZE-WrxQ==\"\n",
    "org = \"lab\"\n",
    "url = \"http://10.118.126.244:8086/\"\n",
    "client = influxdb_client.InfluxDBClient(url=url, token=token, org=org) #set client\n",
    "query_api = client.query_api()\n",
    "query = \"\"\"from(bucket: \"ESP32\")\n",
    "|> range(start: -14d, stop:now())\n",
    "|> filter(fn: (r) => r[\"_measurement\"] == \"Energy_status\")\n",
    "|> filter(fn: (r) => r[\"_field\"] == \"W\")\n",
    "|> timeShift(duration: 8h)\n",
    "|> aggregateWindow(every: 1m, fn: mean, createEmpty: false)\n",
    "|> drop(columns: [\"_start\",\"_stop\",\"_measurement\",\"_field\"])\n",
    "|> yield(name: \"mean\")\"\"\"\n",
    "data_frame = query_api.query_data_frame(query, org=\"lab\")\n",
    "df=data_frame.drop([\"result\",\"table\"], axis=1)\n",
    "print(df)"
   ]
  }
 ],
 "metadata": {
  "kernelspec": {
   "display_name": "Python 3.10.6 ('python310')",
   "language": "python",
   "name": "python3"
  },
  "language_info": {
   "codemirror_mode": {
    "name": "ipython",
    "version": 3
   },
   "file_extension": ".py",
   "mimetype": "text/x-python",
   "name": "python",
   "nbconvert_exporter": "python",
   "pygments_lexer": "ipython3",
   "version": "3.10.6"
  },
  "vscode": {
   "interpreter": {
    "hash": "cd5cbfbc86c2f30c0d8754a1f6485bba315ee9b068cbd5034ba985dabc61eb01"
   }
  }
 },
 "nbformat": 4,
 "nbformat_minor": 5
}
