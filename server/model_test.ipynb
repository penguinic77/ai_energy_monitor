{
 "cells": [
  {
   "cell_type": "code",
   "execution_count": 5,
   "metadata": {},
   "outputs": [],
   "source": [
    "import numpy as np\n",
    "import joblib\n",
    "import pandas as pd\n",
    "from dateutil import parser\n",
    "import numpy as np\n",
    "data = pd.read_table('./whole_data.csv',sep=',')\n",
    "\n",
    "loaded_model = joblib.load('./regrmodel.joblib')"
   ]
  },
  {
   "cell_type": "code",
   "execution_count": 21,
   "metadata": {},
   "outputs": [
    {
     "name": "stdout",
     "output_type": "stream",
     "text": [
      "<class 'str'>\n"
     ]
    }
   ],
   "source": [
    "data = data[:-811]\n",
    "data"
   ]
  },
  {
   "cell_type": "code",
   "execution_count": 7,
   "metadata": {},
   "outputs": [],
   "source": [
    "value = []\n",
    "temp = 0\n",
    "count= 0\n",
    "for i in range(len(data)):\n",
    "    count+=1\n",
    "    temp += data['Value'][i]        \n",
    "    if(count==1):\n",
    "        value.append(temp)\n",
    "        count = 0\n",
    "        temp=0"
   ]
  },
  {
   "cell_type": "code",
   "execution_count": 8,
   "metadata": {},
   "outputs": [],
   "source": [
    "hour_data = []\n",
    "temp = 0\n",
    "count= 0\n",
    "for i in range(len(value)):\n",
    "    count+=1\n",
    "    temp += data['Value'][i]\n",
    "    if(count==60):\n",
    "        hour_data.append(temp)\n",
    "        count = 0\n",
    "        temp=0"
   ]
  },
  {
   "cell_type": "code",
   "execution_count": 9,
   "metadata": {},
   "outputs": [],
   "source": [
    "hour = []\n",
    "ct = 0\n",
    "for i in range(len(hour_data)):\n",
    "    hour.append(ct)\n",
    "    ct += 1\n",
    "    if(ct==24):\n",
    "        ct = 0"
   ]
  },
  {
   "cell_type": "code",
   "execution_count": 10,
   "metadata": {},
   "outputs": [],
   "source": [
    "day = []\n",
    "ct = 0\n",
    "for i in range(len(hour_data)):\n",
    "    day.append(data['TimeStamp'][i*60][8:10])"
   ]
  },
  {
   "cell_type": "code",
   "execution_count": 11,
   "metadata": {},
   "outputs": [],
   "source": [
    "hour_data = []\n",
    "temp = 0\n",
    "count= 0\n",
    "for i in range(len(value)):\n",
    "    count+=1\n",
    "    temp += data['Value'][i]\n",
    "    if(count==60):\n",
    "        hour_data.append(temp)\n",
    "        count = 0\n",
    "        temp=0"
   ]
  },
  {
   "cell_type": "code",
   "execution_count": 20,
   "metadata": {},
   "outputs": [
    {
     "data": {
      "text/plain": [
       "array([[1.600000e+01, 0.000000e+00, 2.038285e+03, ..., 2.387210e+03,\n",
       "        2.390610e+03, 2.768725e+03],\n",
       "       [1.600000e+01, 1.000000e+00, 2.464850e+03, ..., 2.390610e+03,\n",
       "        2.768725e+03, 2.260930e+03],\n",
       "       [1.600000e+01, 2.000000e+00, 1.518215e+03, ..., 2.768725e+03,\n",
       "        2.260930e+03, 1.534260e+03],\n",
       "       ...,\n",
       "       [2.800000e+01, 2.100000e+01, 2.758560e+03, ..., 2.179055e+03,\n",
       "        2.413785e+03, 2.768950e+03],\n",
       "       [2.800000e+01, 2.200000e+01, 2.588260e+03, ..., 2.413785e+03,\n",
       "        2.768950e+03, 2.772860e+03],\n",
       "       [2.800000e+01, 2.300000e+01, 2.154665e+03, ..., 2.768950e+03,\n",
       "        2.772860e+03, 2.773185e+03]])"
      ]
     },
     "execution_count": 20,
     "metadata": {},
     "output_type": "execute_result"
    }
   ],
   "source": [
    "x = np.empty([len(hour_data)-24, 26], dtype = float) #???\n",
    "for k in range(24,25):\n",
    "    x = np.empty([len(hour_data)-24-k, 26])\n",
    "    for i in range(x.shape[0]):\n",
    "        x[i][0] = day[i]\n",
    "        x[i][1] = hour[i]\n",
    "        x[i][2:] = hour_data[i:i+24]\n",
    "x"
   ]
  },
  {
   "cell_type": "code",
   "execution_count": 14,
   "metadata": {},
   "outputs": [
    {
     "name": "stdout",
     "output_type": "stream",
     "text": [
      "[2069.69375388]\n"
     ]
    }
   ],
   "source": [
    "result = loaded_model.predict(x)"
   ]
  }
 ],
 "metadata": {
  "kernelspec": {
   "display_name": "Python 3.10.6 ('python310')",
   "language": "python",
   "name": "python3"
  },
  "language_info": {
   "codemirror_mode": {
    "name": "ipython",
    "version": 3
   },
   "file_extension": ".py",
   "mimetype": "text/x-python",
   "name": "python",
   "nbconvert_exporter": "python",
   "pygments_lexer": "ipython3",
   "version": "3.10.6"
  },
  "orig_nbformat": 4,
  "vscode": {
   "interpreter": {
    "hash": "cd5cbfbc86c2f30c0d8754a1f6485bba315ee9b068cbd5034ba985dabc61eb01"
   }
  }
 },
 "nbformat": 4,
 "nbformat_minor": 2
}
